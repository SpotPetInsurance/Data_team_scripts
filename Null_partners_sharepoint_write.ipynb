{
 "cells": [
  {
   "cell_type": "code",
   "execution_count": 6,
   "id": "cfebc6a7-a3a1-41da-baa5-fb279ac50455",
   "metadata": {},
   "outputs": [],
   "source": [
    "library(bigrquery)\n",
    "library(dplyr)\n",
    "\n",
    "data<-read.csv(\"null_partners.csv\", header = TRUE, stringsAsFactors=FALSE)\n",
    "projectid = \"spot-pet-production\"\n",
    "dataset_name <- 'Null_Partners'\n",
    "partnerize_table = bq_table(project = projectid, dataset = dataset_name, table = 'null_partners')\n",
    "bq_table_upload(x=partnerize_table, values= data, create_disposition='CREATE_IF_NEEDED', write_disposition='WRITE_TRUNCATE')"
   ]
  },
  {
   "cell_type": "code",
   "execution_count": null,
   "id": "70689414-936c-4c4c-ba96-39508eb27f79",
   "metadata": {},
   "outputs": [],
   "source": []
  }
 ],
 "metadata": {
  "environment": {
   "kernel": "ir",
   "name": "r-cpu.4-1.m91",
   "type": "gcloud",
   "uri": "gcr.io/deeplearning-platform-release/r-cpu.4-1:m91"
  },
  "kernelspec": {
   "display_name": "R",
   "language": "R",
   "name": "ir"
  },
  "language_info": {
   "codemirror_mode": "r",
   "file_extension": ".r",
   "mimetype": "text/x-r-source",
   "name": "R",
   "pygments_lexer": "r",
   "version": "4.1.3"
  }
 },
 "nbformat": 4,
 "nbformat_minor": 5
}
