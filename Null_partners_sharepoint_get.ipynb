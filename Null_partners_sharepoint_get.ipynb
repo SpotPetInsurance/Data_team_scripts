{
 "cells": [
  {
   "cell_type": "code",
   "execution_count": 60,
   "id": "ca22ad38-3bf5-401a-98c5-06c07c42b745",
   "metadata": {},
   "outputs": [
    {
     "name": "stdout",
     "output_type": "stream",
     "text": [
      "Requirement already satisfied: Office365-REST-Python-Client in /opt/conda/lib/python3.7/site-packages (2.3.11)\n",
      "Requirement already satisfied: msal in /opt/conda/lib/python3.7/site-packages (from Office365-REST-Python-Client) (1.17.0)\n",
      "Requirement already satisfied: requests in /opt/conda/lib/python3.7/site-packages (from Office365-REST-Python-Client) (2.27.1)\n",
      "Requirement already satisfied: pytz in /opt/conda/lib/python3.7/site-packages (from Office365-REST-Python-Client) (2021.3)\n",
      "Requirement already satisfied: PyJWT[crypto]<3,>=1.0.0 in /opt/conda/lib/python3.7/site-packages (from msal->Office365-REST-Python-Client) (2.3.0)\n",
      "Requirement already satisfied: cryptography<39,>=0.6 in /opt/conda/lib/python3.7/site-packages (from msal->Office365-REST-Python-Client) (36.0.1)\n",
      "Requirement already satisfied: idna<4,>=2.5 in /opt/conda/lib/python3.7/site-packages (from requests->Office365-REST-Python-Client) (3.3)\n",
      "Requirement already satisfied: urllib3<1.27,>=1.21.1 in /opt/conda/lib/python3.7/site-packages (from requests->Office365-REST-Python-Client) (1.26.8)\n",
      "Requirement already satisfied: charset-normalizer~=2.0.0 in /opt/conda/lib/python3.7/site-packages (from requests->Office365-REST-Python-Client) (2.0.12)\n",
      "Requirement already satisfied: certifi>=2017.4.17 in /opt/conda/lib/python3.7/site-packages (from requests->Office365-REST-Python-Client) (2021.10.8)\n",
      "Requirement already satisfied: cffi>=1.12 in /opt/conda/lib/python3.7/site-packages (from cryptography<39,>=0.6->msal->Office365-REST-Python-Client) (1.15.0)\n",
      "Requirement already satisfied: pycparser in /opt/conda/lib/python3.7/site-packages (from cffi>=1.12->cryptography<39,>=0.6->msal->Office365-REST-Python-Client) (2.21)\n",
      "Note: you may need to restart the kernel to use updated packages.\n"
     ]
    }
   ],
   "source": [
    "#pip install Office365-REST-Python-Client"
   ]
  },
  {
   "cell_type": "code",
   "execution_count": 1,
   "id": "ade7bb32-3f40-4bed-8d76-93f9a395fd65",
   "metadata": {},
   "outputs": [],
   "source": [
    "import pandas as pd\n",
    "import numpy as np\n",
    "from office365.runtime.auth.user_credential import UserCredential\n",
    "from office365.sharepoint.client_context import ClientContext\n",
    "site_url = \"https://bowtiepetinsurance.sharepoint.com/sites/NullPartners/\"\n",
    "sp_list = \"Null_Clients\"\n",
    "ctx = ClientContext(site_url).with_credentials(UserCredential(\"juanlozano@spotpet.com\", \"rqrtwlwzxlzmstpc\"))\n",
    "sp_lists = ctx.web.lists\n",
    "s_list = sp_lists.get_by_title(sp_list)\n",
    "l_items = s_list.get_items()\n",
    "ctx.load(l_items)\n",
    "ctx.execute_query()\n",
    "data = []\n",
    "\n",
    "for item in l_items:\n",
    "    data.append((item.properties['Name'] ))\n",
    "cols = ['Name']\n",
    "\n",
    "df1 = pd.DataFrame(data, columns=cols)\n",
    "df1 = df1.astype(dtype={'Name': 'string'})\n",
    "df1.to_csv('null_partners.csv', index=False)"
   ]
  }
 ],
 "metadata": {
  "environment": {
   "kernel": "python3",
   "name": "r-cpu.4-1.m91",
   "type": "gcloud",
   "uri": "gcr.io/deeplearning-platform-release/r-cpu.4-1:m91"
  },
  "kernelspec": {
   "display_name": "Python 3",
   "language": "python",
   "name": "python3"
  },
  "language_info": {
   "codemirror_mode": {
    "name": "ipython",
    "version": 3
   },
   "file_extension": ".py",
   "mimetype": "text/x-python",
   "name": "python",
   "nbconvert_exporter": "python",
   "pygments_lexer": "ipython3",
   "version": "3.7.12"
  }
 },
 "nbformat": 4,
 "nbformat_minor": 5
}
