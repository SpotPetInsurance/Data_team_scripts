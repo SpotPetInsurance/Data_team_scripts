{
 "cells": [
  {
   "cell_type": "code",
   "execution_count": 14,
   "id": "93f8c6a7-673d-48d0-9eb1-3c7e8bda18e3",
   "metadata": {},
   "outputs": [
    {
     "ename": "ERROR",
     "evalue": "Error in read.table(file = file, header = header, sep = sep, quote = quote, : no lines available in input\n",
     "output_type": "error",
     "traceback": [
      "Error in read.table(file = file, header = header, sep = sep, quote = quote, : no lines available in input\nTraceback:\n",
      "1. read.csv(text = content(data, type = \"text\", encoding = \"UTF-8\"))",
      "2. read.table(file = file, header = header, sep = sep, quote = quote, \n .     dec = dec, fill = fill, comment.char = comment.char, ...)",
      "3. stop(\"no lines available in input\")"
     ]
    }
   ],
   "source": [
    "library(bigrquery)\n",
    "library(dplyr)\n",
    "\n",
    "projectid = \"spot-pet-production\"\n",
    "\n",
    "# Set your query\n",
    "#sql <- \"SELECT * FROM `spot-pet-us.data_warehouse_us.data_partnerize_clicks`\"\n",
    "\n",
    "# Run the query and store the data in a tibble\n",
    "#tb <- bq_project_query(projectid, sql)\n",
    "\n",
    "\n",
    "#database_data <- bq_table_download(tb)\n",
    "#database_data <- as.data.frame(database_data)\n",
    "#nrow(database_data)\n",
    "\n",
    "library(httr)\n",
    "library(stringr)\n",
    "\n",
    "todays_date <- as.character(Sys.Date())\n",
    "\n",
    "todays_date <- as.Date(todays_date , \"%Y-%m-%d\")\n",
    "\n",
    "tomorrow_date <- todays_date + 1\n",
    "\n",
    "#yesterdays_date <- todays_date - 2\n",
    "\n",
    "tomorrow_date <- as.character(tomorrow_date)\n",
    "\n",
    "#yesterdays_date <- as.character(yesterdays_date)\n",
    "\n",
    "URL <- \"https://api.performancehorizon.com/reporting/export/export/click.csv?start_date=2020-06-01+00%3A00%3A00&end_date=2021-11-24+00%3A00%3A00&campaign_id=1011l3888&convert_currency=USD&ref_conversion_metric_id%5B%5D=2\"\n",
    "URL <- str_replace(URL, \"(?<=end_date\\\\=)\\\\d{4}-\\\\d{2}-\\\\d{2}\", tomorrow_date)\n",
    "#URL <- str_replace(URL, \"(?<=start_date\\\\=)\\\\d{4}-\\\\d{2}-\\\\d{2}\", yesterdays_date)\n",
    "\n",
    "data <- GET(URL, authenticate(\"8GkJjNy4wo\",\"2L07IDNE\"))\n",
    "new_data <- read.csv(text=content(data, type = \"text\", encoding=\"UTF-8\"))\n",
    "job_id <- new_data$job_id\n",
    "url <- \"https://api.performancehorizon.com/job/x/response.csv\"\n",
    "url2 <- gsub(\"x\", job_id, url)\n",
    "\n",
    "######Wait 2 min to run this####\n",
    "Sys.sleep(450)\n",
    "data <- GET(url2, authenticate(\"8GkJjNy4wo\",\"2L07IDNE\"))\n",
    "new_data <- read.csv(text=content(data, type = \"text\", encoding=\"UTF-8\"))\n",
    "\n",
    "#nrow(new_data)\n",
    "\n",
    "new_data$set_time <- as.POSIXct(new_data$set_time, format = \"%Y-%m-%d %H:%M:%S\")\n",
    "new_data$last_used <- as.POSIXct(new_data$set_time, format = \"%Y-%m-%d %H:%M:%S\")\n",
    "\n",
    "#different.names <- (!new_data$click_id %in% database_data$click_id)\n",
    "#data_to_append <- new_data[different.names,]\n",
    "\n",
    "dataset_name <- 'flow_tables_exec_dash'\n",
    "partnerize_table = bq_table(project = projectid, dataset = dataset_name, table = 'data_partnerize_clicks')\n",
    "\n",
    "new_data$creative_id <- as.character(new_data$creative_id)\n",
    "new_data$specific_creative_id <- as.character(new_data$creative_id)\n",
    "new_data$ref_origin <- NULL\n",
    "\n",
    "bq_table_upload(x=partnerize_table, values= new_data, create_disposition='CREATE_IF_NEEDED', write_disposition='WRITE_TRUNCATE')\n",
    "sql2 <- \"Update `spot-pet-production.flow_tables_exec_dash.data_refreshes_time` set time_refreshed=DATETIME(CURRENT_TIMESTAMP(), 'America/New_York') WHERE source = 'Partnerize_clicks'\"\n",
    "tb <- bq_project_query(projectid, sql2)\n",
    "\n",
    "##### Run till here\n",
    "print(\"update completed\")"
   ]
  }
 ],
 "metadata": {
  "environment": {
   "kernel": "ir",
   "name": "r-cpu.4-1.m91",
   "type": "gcloud",
   "uri": "gcr.io/deeplearning-platform-release/r-cpu.4-1:m91"
  },
  "kernelspec": {
   "display_name": "R",
   "language": "R",
   "name": "ir"
  },
  "language_info": {
   "codemirror_mode": "r",
   "file_extension": ".r",
   "mimetype": "text/x-r-source",
   "name": "R",
   "pygments_lexer": "r",
   "version": "4.1.3"
  }
 },
 "nbformat": 4,
 "nbformat_minor": 5
}
