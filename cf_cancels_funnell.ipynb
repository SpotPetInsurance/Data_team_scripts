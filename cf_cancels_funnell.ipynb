{
 "cells": [
  {
   "cell_type": "code",
   "execution_count": 2,
   "id": "e84d6682-f910-4bdd-b072-bde3e906bfd0",
   "metadata": {},
   "outputs": [],
   "source": [
    "from google.cloud import bigquery\n",
    "\n",
    "bqclient = bigquery.Client()\n",
    "\n",
    "# Download query results.\n",
    "query_string = \"\"\"\n",
    "SELECT * FROM `spot-pet-production.data_warehouse.cf_cancels`\n",
    "\"\"\"\n",
    "\n",
    "dataframe = (\n",
    "    bqclient.query(query_string)\n",
    "    .result()\n",
    "    .to_dataframe(\n",
    "        # Optionally, explicitly request to use the BigQuery Storage API. As of\n",
    "        # google-cloud-bigquery version 1.26.0 and above, the BigQuery Storage\n",
    "        # API is used by default.\n",
    "        create_bqstorage_client=True,\n",
    "    )\n",
    ")\n",
    "\n",
    "import pandas as pd\n",
    "import json\n",
    "import csv\n",
    "from google.oauth2 import service_account\n",
    "\n",
    "import pygsheets\n",
    "import pandas as pd\n",
    "#authorization\n",
    "gc = pygsheets.authorize(service_file='/home/jupyter/spot-pet-production-fd5c972538d8.json')\n",
    "\n",
    "#open the google spreadsheet (where 'PY to Gsheet Test' is the name of my sheet)\n",
    "sh = gc.open('cf_cancels_funnel')\n",
    "\n",
    "#select the first sheet \n",
    "wks = sh[0]\n",
    "\n",
    "#update the first sheet with df, starting at cell B2. \n",
    "wks.set_dataframe(dataframe,(1,1))"
   ]
  },
  {
   "cell_type": "code",
   "execution_count": null,
   "id": "af41a695-8a68-4d25-b0f9-2e4f66267eff",
   "metadata": {},
   "outputs": [],
   "source": []
  },
  {
   "cell_type": "code",
   "execution_count": null,
   "id": "de159bbe-4cad-4e71-a30f-4edbb781c65b",
   "metadata": {},
   "outputs": [],
   "source": []
  }
 ],
 "metadata": {
  "environment": {
   "kernel": "python3",
   "name": "r-cpu.4-1.m91",
   "type": "gcloud",
   "uri": "gcr.io/deeplearning-platform-release/r-cpu.4-1:m91"
  },
  "kernelspec": {
   "display_name": "Python 3",
   "language": "python",
   "name": "python3"
  },
  "language_info": {
   "codemirror_mode": {
    "name": "ipython",
    "version": 3
   },
   "file_extension": ".py",
   "mimetype": "text/x-python",
   "name": "python",
   "nbconvert_exporter": "python",
   "pygments_lexer": "ipython3",
   "version": "3.7.12"
  }
 },
 "nbformat": 4,
 "nbformat_minor": 5
}
